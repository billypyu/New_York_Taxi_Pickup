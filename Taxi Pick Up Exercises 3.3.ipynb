{
 "cells": [
  {
   "cell_type": "markdown",
   "metadata": {},
   "source": [
    "**PHASE I: Course Review.**\n",
    "\n",
    "In this project, we will explore and analyze data from NYC Taxi and Limousine Commission (TLC) in December 2018. We then build a classification model to determine whether a trip will be tipped. By interpreting the feature importances, we will understand what types of trips are more likely to be tipped. \n",
    "\n",
    "Please download data from [here](https://www1.nyc.gov/site/tlc/about/tlc-trip-record-data.page).\n",
    "Click **2018 --> December --> Green (CSV)**\n",
    "\n",
    "\n",
    "The green taxi trip records include fields capturing pick-up and drop-off dates/times, pick-up and drop-off locations, trip distances, itemized fares, rate types, payment types, and driver-reported passenger counts. The data dictionary can be found [here](https://www1.nyc.gov/assets/tlc/downloads/pdf/data_dictionary_trip_records_green.pdf).\n"
   ]
  },
  {
   "cell_type": "code",
   "execution_count": 1,
   "metadata": {},
   "outputs": [],
   "source": [
    "import pandas as pd\n",
    "pd.set_option('display.max_columns', None) # this will show all the columns in dataframe\n",
    "\n",
    "import numpy as np\n",
    "import seaborn as sns \n",
    "import matplotlib.pyplot as plt\n",
    "import matplotlib\n",
    "matplotlib.rcParams['figure.figsize'] = [10, 6]\n",
    "\n",
    "%matplotlib inline \n",
    "\n",
    "from datetime import datetime\n",
    "from sklearn.model_selection import train_test_split, KFold\n",
    "from sklearn.metrics import confusion_matrix, roc_auc_score\n",
    "\n",
    "# skip all warnings\n",
    "import warnings\n",
    "warnings.filterwarnings('ignore')\n",
    "\n",
    "plt.style.use('ggplot')"
   ]
  },
  {
   "cell_type": "markdown",
   "metadata": {},
   "source": [
    "# Preprocessing Data"
   ]
  },
  {
   "cell_type": "markdown",
   "metadata": {},
   "source": [
    "Let's take a quick look at the dataset. First we load Green Taxi trip data on December, 2018. By explaining features one by one, we could understand the domain knowledge better. Besides, we also take a look at the shape of data as well as missing values."
   ]
  },
  {
   "cell_type": "code",
   "execution_count": 2,
   "metadata": {},
   "outputs": [],
   "source": [
    "# pandas load data\n",
    "trips = pd.read_csv('./green_tripdata_2018-12.csv')"
   ]
  },
  {
   "cell_type": "code",
   "execution_count": 3,
   "metadata": {},
   "outputs": [
    {
     "name": "stdout",
     "output_type": "stream",
     "text": [
      "(685373, 19)\n",
      "['VendorID', 'lpep_pickup_datetime', 'lpep_dropoff_datetime', 'store_and_fwd_flag', 'RatecodeID', 'PULocationID', 'DOLocationID', 'passenger_count', 'trip_distance', 'fare_amount', 'extra', 'mta_tax', 'tip_amount', 'tolls_amount', 'ehail_fee', 'improvement_surcharge', 'total_amount', 'payment_type', 'trip_type']\n"
     ]
    }
   ],
   "source": [
    "# shape of data\n",
    "print (trips.shape)\n",
    "\n",
    "# read every feature in details\n",
    "print (trips.columns.tolist())"
   ]
  },
  {
   "cell_type": "markdown",
   "metadata": {},
   "source": [
    "* VendorID: LPEP provider that provided the data record (1 = Creative Mobile Technologies, LLC; 2=VeriFone Inc.)\n",
    "* lpep_pickup_datetime: The time when meter was engaged\n",
    "* lpep_dropoff_datetime: The time when meter was disengaged\n",
    "* store_and_fwd_flag: This flag indicates whether the trip record was held in vehicle memory before sending to the vendor, aka “store and forward,” because the vehicle did not have a connection to the server\n",
    "* RatecodeID: The final rate code in effect at the end of the trip.\n",
    "* PULocationID: TLC taxi zone for pickup\n",
    "* DOLocationID: TLC taxi zone for dropoff\n",
    "* passenger_count: The number of passengers in the vehicle. Recorded by driver\n",
    "* trip_distance: trip distance in miles\n",
    "* fare_amount: The time-and-distance fare calculated by the meter\n",
    "* extra: the 0.50 and 1 rush hour, and overnight charges\n",
    "* mta_tax: 0.50 MTA tax that is automatically triggered based on the metered rate in use\n",
    "* tip_amount: This field is automatically populated for credit card tips. **Cash tips are not included**\n",
    "* tolls_amount: Total amount of all tolls paid in trip\n",
    "* ehail_fee: NULL\n",
    "* improvement_surcharge: 0.30 improvement surcharge assessed on hailed trips at the flag drop. The improvement surcharge began being levied in 2015\n",
    "* total_amount: The total amount charged to passengers. **Does not include cash tips**\n",
    "* payment_type: how the passenger paid for the trip\n",
    "* trip_type: A code indicating whether the trip was a street-hail or a dispatch that is automatically assigned based on the metered rate in use but can be altered by the driver"
   ]
  },
  {
   "cell_type": "markdown",
   "metadata": {},
   "source": [
    "From the above description, we find an interesting thing that might affect the prediction of tips. We do not have cash tips information in the dataset. To make it closer to the Uber situation, we filter dataset with `payment_type = 1`, which is credit card. Then we report data shape and missing value."
   ]
  },
  {
   "cell_type": "code",
   "execution_count": 4,
   "metadata": {},
   "outputs": [
    {
     "name": "stdout",
     "output_type": "stream",
     "text": [
      "(406690, 19)\n"
     ]
    },
    {
     "data": {
      "text/plain": [
       "VendorID                      0\n",
       "lpep_pickup_datetime          0\n",
       "lpep_dropoff_datetime         0\n",
       "store_and_fwd_flag            0\n",
       "RatecodeID                    0\n",
       "PULocationID                  0\n",
       "DOLocationID                  0\n",
       "passenger_count               0\n",
       "trip_distance                 0\n",
       "fare_amount                   0\n",
       "extra                         0\n",
       "mta_tax                       0\n",
       "tip_amount                    0\n",
       "tolls_amount                  0\n",
       "ehail_fee                406690\n",
       "improvement_surcharge         0\n",
       "total_amount                  0\n",
       "payment_type                  0\n",
       "trip_type                     0\n",
       "dtype: int64"
      ]
     },
     "execution_count": 4,
     "metadata": {},
     "output_type": "execute_result"
    }
   ],
   "source": [
    "# choose payment type as credit card\n",
    "trips_cc = trips[trips['payment_type']==1]\n",
    "\n",
    "# data shape again\n",
    "print (trips_cc.shape)\n",
    "\n",
    "# missing value\n",
    "trips_cc.isnull().sum()"
   ]
  },
  {
   "cell_type": "markdown",
   "metadata": {},
   "source": [
    "Nearly 40% of the data are removed. Even thought, the dataset is large enough to make prediction.\n",
    "\n",
    "To see the missing value, data is actually pretty clean, with no missing value except feature 'ehail_fee', which contains all missing value and should be removed. The dataset is clean because we only choose \"credit card\" payment type. Some other missing values may occur at other payment type.\n",
    "\n",
    "Besides, `VendorID` is the id-like variable and should also be removed. Since we already choose credit card, `payment_type` can be removed."
   ]
  },
  {
   "cell_type": "code",
   "execution_count": 5,
   "metadata": {},
   "outputs": [],
   "source": [
    "# data cleaning\n",
    "\n",
    "# remove ehail_fee, VendorID and payment_type\n",
    "trips_cc.drop(['ehail_fee', 'VendorID', 'payment_type'], axis=1, inplace=True)"
   ]
  },
  {
   "cell_type": "markdown",
   "metadata": {},
   "source": [
    "# Exploratory Data Analysis"
   ]
  },
  {
   "cell_type": "markdown",
   "metadata": {},
   "source": [
    "In this section, we run Exploratory Data Analysis on our dataset. In EDA, we should find some correlations between features and target variable, which is not defined in our dataset. Therefore, we need to derive a new variable `is_tipped`, to be our response variable. \n",
    "\n",
    "You should be able to implement this from `tip_amount`. That is, set `is_tipped` to 0, if `tip_amount` is 0. Else, set it to 1. So, let's first explore feature `tip_amount`."
   ]
  },
  {
   "cell_type": "markdown",
   "metadata": {},
   "source": [
    "## Tip Amount"
   ]
  },
  {
   "cell_type": "code",
   "execution_count": 6,
   "metadata": {},
   "outputs": [
    {
     "data": {
      "text/plain": [
       "count    406690.000000\n",
       "mean          1.591567\n",
       "std           2.280100\n",
       "min           0.000000\n",
       "25%           0.000000\n",
       "50%           1.170000\n",
       "75%           2.340000\n",
       "max         300.000000\n",
       "Name: tip_amount, dtype: float64"
      ]
     },
     "execution_count": 6,
     "metadata": {},
     "output_type": "execute_result"
    }
   ],
   "source": [
    "trips_cc['tip_amount'].describe()"
   ]
  },
  {
   "cell_type": "markdown",
   "metadata": {},
   "source": [
    "Negative values are found, which makes no sense! There are several things you can do about it.\n",
    "\n",
    "* Find out samples with negative tip amount\n",
    "* Compute number of those samples\n",
    "* Remove them or impute with 0\n",
    "\n",
    "There is only one sample with tip amount less than 0. We can definitely remove it. By looking at this sample, I might say that this negative `fare_amount` and `tip_amount` are due to the order cancellation from driver. But additional information is needed, if we want to know details. "
   ]
  },
  {
   "cell_type": "code",
   "execution_count": 7,
   "metadata": {},
   "outputs": [
    {
     "name": "stdout",
     "output_type": "stream",
     "text": [
      "0\n"
     ]
    },
    {
     "data": {
      "text/html": [
       "<div>\n",
       "<style scoped>\n",
       "    .dataframe tbody tr th:only-of-type {\n",
       "        vertical-align: middle;\n",
       "    }\n",
       "\n",
       "    .dataframe tbody tr th {\n",
       "        vertical-align: top;\n",
       "    }\n",
       "\n",
       "    .dataframe thead th {\n",
       "        text-align: right;\n",
       "    }\n",
       "</style>\n",
       "<table border=\"1\" class=\"dataframe\">\n",
       "  <thead>\n",
       "    <tr style=\"text-align: right;\">\n",
       "      <th></th>\n",
       "      <th>lpep_pickup_datetime</th>\n",
       "      <th>lpep_dropoff_datetime</th>\n",
       "      <th>store_and_fwd_flag</th>\n",
       "      <th>RatecodeID</th>\n",
       "      <th>PULocationID</th>\n",
       "      <th>DOLocationID</th>\n",
       "      <th>passenger_count</th>\n",
       "      <th>trip_distance</th>\n",
       "      <th>fare_amount</th>\n",
       "      <th>extra</th>\n",
       "      <th>mta_tax</th>\n",
       "      <th>tip_amount</th>\n",
       "      <th>tolls_amount</th>\n",
       "      <th>improvement_surcharge</th>\n",
       "      <th>total_amount</th>\n",
       "      <th>trip_type</th>\n",
       "    </tr>\n",
       "  </thead>\n",
       "  <tbody>\n",
       "  </tbody>\n",
       "</table>\n",
       "</div>"
      ],
      "text/plain": [
       "Empty DataFrame\n",
       "Columns: [lpep_pickup_datetime, lpep_dropoff_datetime, store_and_fwd_flag, RatecodeID, PULocationID, DOLocationID, passenger_count, trip_distance, fare_amount, extra, mta_tax, tip_amount, tolls_amount, improvement_surcharge, total_amount, trip_type]\n",
       "Index: []"
      ]
     },
     "execution_count": 7,
     "metadata": {},
     "output_type": "execute_result"
    }
   ],
   "source": [
    "# number of samples with tip amount less than 0\n",
    "print (sum(trips_cc['tip_amount']<0))\n",
    "\n",
    "# sample\n",
    "trips_cc[trips_cc['tip_amount']<0]"
   ]
  },
  {
   "cell_type": "code",
   "execution_count": 8,
   "metadata": {},
   "outputs": [],
   "source": [
    "# remove it\n",
    "trips_cc = trips_cc[trips_cc['tip_amount']>=0]"
   ]
  },
  {
   "cell_type": "markdown",
   "metadata": {},
   "source": [
    "## Target: is_tipped"
   ]
  },
  {
   "cell_type": "markdown",
   "metadata": {},
   "source": [
    "Now we can create a new feature `is_tipped` from `tip_amount`. Then we explore the distribution of `is_tipped`."
   ]
  },
  {
   "cell_type": "code",
   "execution_count": 9,
   "metadata": {},
   "outputs": [
    {
     "data": {
      "image/png": "[encoded data removed]",
      "text/plain": [
       "<Figure size 432x288 with 1 Axes>"
      ]
     },
     "metadata": {
      "needs_background": "light"
     },
     "output_type": "display_data"
    }
   ],
   "source": [
    "# create a new feature, named is_tipped\n",
    "trips_cc['is_tipped'] = trips_cc['tip_amount'].apply(lambda x: 0 if x == 0 else 1)\n",
    "\n",
    "# Bar plot\n",
    "x_pos = ['Tip','No Tip']\n",
    "x = trips_cc['is_tipped'].value_counts()\n",
    "\n",
    "plt.bar(x_pos, x, color='green')\n",
    "plt.ylabel(\"Counts\")\n",
    "plt.title(\"Bar plot of whether the trip is tipped\")\n",
    "plt.show()"
   ]
  },
  {
   "cell_type": "markdown",
   "metadata": {},
   "source": [
    "The distribution of data is balanced. At least, we do not worry about the imbalance problem in classification model."
   ]
  },
  {
   "cell_type": "markdown",
   "metadata": {},
   "source": [
    "## Total Amount"
   ]
  },
  {
   "cell_type": "markdown",
   "metadata": {},
   "source": [
    "Let's also explore a continuous variable. If you see the distribution of `total_amount`, it also shows negative values. However, Green Taxi has a minimum total amount of 2.5. So, we believe the records with total amount less than 2.5 are considered outliers. There are 246 outliers in total. As our total sample size is 417076, we could remove those outliers."
   ]
  },
  {
   "cell_type": "code",
   "execution_count": 10,
   "metadata": {},
   "outputs": [
    {
     "name": "stdout",
     "output_type": "stream",
     "text": [
      "count    406690.000000\n",
      "mean         19.681983\n",
      "std          14.796286\n",
      "min         -26.240000\n",
      "25%           9.960000\n",
      "50%          14.800000\n",
      "75%          23.800000\n",
      "max         495.000000\n",
      "Name: total_amount, dtype: float64\n",
      "\n",
      "343\n"
     ]
    }
   ],
   "source": [
    "# total amount\n",
    "print (trips_cc['total_amount'].describe())\n",
    "print()\n",
    "\n",
    "# number of samples with total amount less than 2.5\n",
    "print (sum(trips_cc['total_amount']<=2.5))"
   ]
  },
  {
   "cell_type": "code",
   "execution_count": 11,
   "metadata": {},
   "outputs": [],
   "source": [
    "# remove outliers\n",
    "trips_cc = trips_cc[trips_cc['total_amount']>2.5]"
   ]
  },
  {
   "cell_type": "markdown",
   "metadata": {},
   "source": [
    "Histogram plot is to describe the distribution of a continuous variable. It is heavily right skewness. So it might be clear if taking log transformation."
   ]
  },
  {
   "cell_type": "code",
   "execution_count": 12,
   "metadata": {},
   "outputs": [
    {
     "data": {
      "image/png": "[encoded data removed]",
      "text/plain": [
       "<Figure size 432x288 with 1 Axes>"
      ]
     },
     "metadata": {
      "needs_background": "light"
     },
     "output_type": "display_data"
    }
   ],
   "source": [
    "# the distribution of total amount\n",
    "trips_cc['total_amount'].hist(bins=50)\n",
    "plt.xlabel(\"total amount\")\n",
    "plt.ylabel(\"frequency\")\n",
    "plt.title(\"Histogram of total amount\")\n",
    "plt.show()"
   ]
  },
  {
   "cell_type": "code",
   "execution_count": null,
   "metadata": {},
   "outputs": [],
   "source": []
  },
  {
   "cell_type": "markdown",
   "metadata": {},
   "source": [
    "## Correlations"
   ]
  },
  {
   "cell_type": "markdown",
   "metadata": {},
   "source": [
    "Previously we explore a single variable. In this section, we will find the relationship between two features. Actually, we are interested in relation between each feature and the target. Let's see the numerical variables first. "
   ]
  },
  {
   "cell_type": "code",
   "execution_count": 13,
   "metadata": {},
   "outputs": [
    {
     "data": {
      "text/plain": [
       "['lpep_pickup_datetime',\n",
       " 'lpep_dropoff_datetime',\n",
       " 'store_and_fwd_flag',\n",
       " 'RatecodeID',\n",
       " 'PULocationID',\n",
       " 'DOLocationID',\n",
       " 'passenger_count',\n",
       " 'trip_distance',\n",
       " 'fare_amount',\n",
       " 'extra',\n",
       " 'mta_tax',\n",
       " 'tip_amount',\n",
       " 'tolls_amount',\n",
       " 'improvement_surcharge',\n",
       " 'total_amount',\n",
       " 'trip_type',\n",
       " 'is_tipped']"
      ]
     },
     "execution_count": 13,
     "metadata": {},
     "output_type": "execute_result"
    }
   ],
   "source": [
    "trips_cc.columns.tolist()"
   ]
  },
  {
   "cell_type": "code",
   "execution_count": 14,
   "metadata": {},
   "outputs": [
    {
     "name": "stdout",
     "output_type": "stream",
     "text": [
      "tip_amount               1.000000\n",
      "total_amount             0.254958\n",
      "improvement_surcharge    0.185363\n",
      "extra                    0.110256\n",
      "fare_amount              0.098363\n",
      "trip_distance            0.077634\n",
      "tolls_amount             0.044187\n",
      "mta_tax                 -0.065341\n",
      "trip_type               -0.185170\n",
      "Name: tip_amount, dtype: float64\n"
     ]
    }
   ],
   "source": [
    "# filter numerical features\n",
    "trips_numerical = trips_cc.select_dtypes(include = 'float64').corr()\n",
    "\n",
    "# print correlation coefs  between each feature and target\n",
    "print(trips_numerical['tip_amount'].sort_values(ascending = False))"
   ]
  },
  {
   "cell_type": "markdown",
   "metadata": {},
   "source": [
    "We already know that `is_tipped` is derived from `tip_amount`, which then should be removed from dataset. But we want to explore some other features that might have high correlation with `tip_amount`. \n",
    "\n",
    "* As we know, `fare amount` is recorded from the machine in Taxi, which is not the cause of tips. It should be included.\n",
    "* `total amount` should be the total money a passenger pays for this trip. This feature contains the information of tips! If we want to predict tips, this feature should not appear in dataset. Otherwise, we are using y to predict y.\n",
    "\n",
    "Still, we might wonder if tip amount has a high correlation with total amount minus fare amount.\n",
    "\n",
    "As shown below, there is a high correlation between tip amount and total amount minus fare amount, which proves our previous analysis."
   ]
  },
  {
   "cell_type": "code",
   "execution_count": 15,
   "metadata": {},
   "outputs": [
    {
     "data": {
      "text/plain": [
       "array([[1.        , 0.86598544],\n",
       "       [0.86598544, 1.        ]])"
      ]
     },
     "execution_count": 15,
     "metadata": {},
     "output_type": "execute_result"
    }
   ],
   "source": [
    "# coefficient\n",
    "np.corrcoef(trips_numerical['tip_amount'], \n",
    "            trips_numerical['total_amount'] - trips_numerical['fare_amount'])"
   ]
  },
  {
   "cell_type": "markdown",
   "metadata": {},
   "source": [
    "# Feature Engineering"
   ]
  },
  {
   "cell_type": "markdown",
   "metadata": {},
   "source": [
    "In this section, we prepare data for classification model. First we create time-related new features, using pickup and dropoff time. Second, we analyze other features such as mta_tax, improvement surcharge and passenger count to get some insights. Third, we remove all irrelevant variables."
   ]
  },
  {
   "cell_type": "markdown",
   "metadata": {},
   "source": [
    "## Create New Features"
   ]
  },
  {
   "cell_type": "markdown",
   "metadata": {},
   "source": [
    "The new features we create includes day of month, weekday, hour from pickup datetime. We can also generate trip duration and trip speed, which are easy to get from original features. "
   ]
  },
  {
   "cell_type": "code",
   "execution_count": 16,
   "metadata": {},
   "outputs": [],
   "source": [
    "# TIME-RELATED\n",
    "\n",
    "# convert lpep pickup datetime to standard datetime format\n",
    "trips_cc['pickup_datetime'] = trips_cc['lpep_pickup_datetime'].apply(\n",
    "    lambda x: datetime.strptime(x,'%Y-%m-%d %H:%M:%S'))\n",
    "# extract day of month\n",
    "trips_cc['monthday'] = trips_cc['pickup_datetime'].apply(lambda x: x.day)\n",
    "# get weekday\n",
    "trips_cc['weekday'] = trips_cc['pickup_datetime'].apply(lambda x: x.weekday() + 1)\n",
    "# get hour of day\n",
    "trips_cc['hour'] = trips_cc['pickup_datetime'].apply(lambda x: x.hour)"
   ]
  },
  {
   "cell_type": "code",
   "execution_count": 17,
   "metadata": {},
   "outputs": [],
   "source": [
    "# TRIP DURATION/SPEED\n",
    "\n",
    "# derive Trip duration\n",
    "trips_cc['dropoff_datetime'] = trips_cc['lpep_dropoff_datetime'].apply(\n",
    "    lambda x: datetime.strptime(x,'%Y-%m-%d %H:%M:%S'))\n",
    "trips_cc['trip_duration'] = (trips_cc['dropoff_datetime'] - trips_cc['pickup_datetime']) / np.timedelta64(1, 'm')\n",
    "\n",
    "# remove duration less than 0\n",
    "trips_cc = trips_cc[trips_cc['trip_duration'] > 0]\n",
    "\n",
    "# derive average trip speed with miles per hour\n",
    "trips_cc['trip_speed'] = trips_cc['trip_distance'] / (trips_cc['trip_duration'] / 60.0)\n",
    "\n",
    "# remove speed greater than 80\n",
    "trips_cc = trips_cc[trips_cc['trip_speed'] <= 80]"
   ]
  },
  {
   "cell_type": "markdown",
   "metadata": {},
   "source": [
    "## Other Features"
   ]
  },
  {
   "cell_type": "markdown",
   "metadata": {},
   "source": [
    "By analyzing value counts of `mta_tax` and `improvement_surcharge` below, we see the imbalance of the values. Thus these two features may not contribute much to the predictive models. But number of features here are small, so we still keep them in the dataset.\n",
    "\n",
    "For `passenger_count`, we remove those 0-passenger samples. Besides, we set 6,7,8,9 as one level. "
   ]
  },
  {
   "cell_type": "code",
   "execution_count": 18,
   "metadata": {},
   "outputs": [
    {
     "name": "stdout",
     "output_type": "stream",
     "text": [
      "0.5    401781\n",
      "0.0      4087\n",
      "Name: mta_tax, dtype: int64\n",
      "\n",
      "0.3    367616\n",
      "0.0     38252\n",
      "Name: improvement_surcharge, dtype: int64\n",
      "\n",
      "1    351072\n",
      "2     27582\n",
      "5     13576\n",
      "6      6232\n",
      "3      5017\n",
      "4      1630\n",
      "0       745\n",
      "8         6\n",
      "7         5\n",
      "9         3\n",
      "Name: passenger_count, dtype: int64\n"
     ]
    }
   ],
   "source": [
    "# mta_tax\n",
    "print (trips_cc['mta_tax'].value_counts())\n",
    "print()\n",
    "# improvement_surcharge\n",
    "print (trips_cc['improvement_surcharge'].value_counts())\n",
    "print()\n",
    "# passenger_count\n",
    "print (trips_cc['passenger_count'].value_counts())\n",
    "\n",
    "# remove 0 passenger\n",
    "trips_cc = trips_cc[trips_cc['passenger_count'] != 0]\n",
    "\n",
    "# merge 7/8/9 to 6 \n",
    "trips_cc['passenger_count'] = trips_cc['passenger_count'].apply(lambda x: 6 if x >= 6 else x)"
   ]
  },
  {
   "cell_type": "markdown",
   "metadata": {},
   "source": [
    "## Remove Irrelevant Variables"
   ]
  },
  {
   "cell_type": "markdown",
   "metadata": {},
   "source": [
    "Datetime-related features are irrelevant. It makes no sense to add those variables to model. In addition, we have already extract useful information from them. Thus we can remove them.\n",
    "\n",
    "Store_and_fwd_flag feature indicates whether the trip record was held in vehicle memory before sending to the vendor. This might differ because the vehicle did not have a connection to the server, which has no relationship with tip. We can also remove it.\n",
    "\n",
    "At last, tip amount and total amount should be removed, since it is response-related variable!"
   ]
  },
  {
   "cell_type": "code",
   "execution_count": 19,
   "metadata": {},
   "outputs": [],
   "source": [
    "trips_cc.drop(['lpep_pickup_datetime',\n",
    "               'lpep_dropoff_datetime',\n",
    "               'pickup_datetime',\n",
    "               'dropoff_datetime',\n",
    "               'store_and_fwd_flag',\n",
    "               'tip_amount', 'total_amount'],axis=1, inplace=True)"
   ]
  },
  {
   "cell_type": "markdown",
   "metadata": {},
   "source": [
    "## Discretization "
   ]
  },
  {
   "cell_type": "markdown",
   "metadata": {},
   "source": [
    "In this section, we will perform discretization of continuous features. Even though discretization may bring error, it decreases the effect of outliers and computational efforts.\n",
    "\n",
    "* The pickup and dropoff location ID can be clustered into several district, based on the [taxi zone maps](https://www1.nyc.gov/site/tlc/about/tlc-trip-record-data.page). \n",
    "* `trip_duration`, `trip_speed`, `trip_distance` and `fare_amount` are highly right sknewed. Thus, we might want to take the log transformation, and bin with equal frequency.\n",
    "* `mta_tax`, `improvement_surcharge` and `tolls_amount` both have a large number of 0. So we'd better convert them to binary variables (0/1).\n",
    "* We label encoder `extra`.\n"
   ]
  },
  {
   "cell_type": "markdown",
   "metadata": {},
   "source": [
    "### Locations"
   ]
  },
  {
   "cell_type": "code",
   "execution_count": null,
   "metadata": {
    "scrolled": true
   },
   "outputs": [],
   "source": [
    "from IPython.display import Image, display\n",
    "\n",
    "listOfImageNames = ['./test/taxi_zone_map_bronx.jpg', \n",
    "                    './test/taxi_zone_map_brooklyn.jpg',\n",
    "                    './test/taxi_zone_map_manhattan.jpg', \n",
    "                    './test/taxi_zone_map_queens.jpg',\n",
    "                    './test/taxi_zone_map_staten_island.jpg']\n",
    "\n",
    "for imageName in listOfImageNames:\n",
    "    display(Image(filename=imageName,width=600, height=600))"
   ]
  },
  {
   "cell_type": "code",
   "execution_count": 28,
   "metadata": {},
   "outputs": [],
   "source": [
    "taxi_zone = pd.read_csv(\"./taxi+_zone_lookup.csv\")"
   ]
  },
  {
   "cell_type": "code",
   "execution_count": 29,
   "metadata": {
    "scrolled": true
   },
   "outputs": [],
   "source": [
    "# join pickup\n",
    "tmp = trips_cc.merge(taxi_zone[['LocationID', 'Borough']], \n",
    "                     left_on=\"PULocationID\", right_on=\"LocationID\", how=\"left\")\n",
    "# join dropoff\n",
    "trips_merged = tmp.merge(taxi_zone[['LocationID', 'Borough']], \n",
    "                        left_on=\"DOLocationID\", right_on=\"LocationID\", how=\"left\")\n",
    "# remove redundant features\n",
    "trips_merged.drop(columns=[\"PULocationID\", \"DOLocationID\", \"LocationID_x\", \"LocationID_y\"], axis=1, inplace=True)\n",
    "# rename location features\n",
    "trips_merged.rename(columns={\"Borough_x\":\"PULocation\", \"Borough_y\":\"DOLocation\"}, inplace=True)\n",
    "# create a feature of whether pickup location is the same as drop off\n",
    "# 1: different, 0: same\n",
    "trips_merged[\"PU_DO\"] = (trips_merged[\"PULocation\"]!=trips_merged[\"DOLocation\"]).astype(int)\n",
    "\n",
    "# label encoder pickup and dropoff location\n",
    "from sklearn import preprocessing\n",
    "\n",
    "le = preprocessing.LabelEncoder()\n",
    "le.fit(trips_merged['PULocation'])\n",
    "trips_merged['PULocation'] = le.transform(trips_merged['PULocation'])\n",
    "trips_merged['DOLocation'] = le.transform(trips_merged['DOLocation'])"
   ]
  },
  {
   "cell_type": "markdown",
   "metadata": {},
   "source": [
    "### Binning (NOT APPLIED)"
   ]
  },
  {
   "cell_type": "code",
   "execution_count": null,
   "metadata": {},
   "outputs": [],
   "source": [
    "from pandas import qcut\n",
    "\n",
    "# take the log transformation\n",
    "log_features = ['trip_duration', 'trip_speed', 'trip_distance', 'fare_amount']\n",
    "for f in log_features:\n",
    "    trips_merged[f] = qcut(np.log(trips_merged[f]+0.01), q=6, labels=range(6))"
   ]
  },
  {
   "cell_type": "markdown",
   "metadata": {},
   "source": [
    "### Binary (NOT APPLIED)"
   ]
  },
  {
   "cell_type": "code",
   "execution_count": null,
   "metadata": {
    "scrolled": true
   },
   "outputs": [],
   "source": [
    "binary_features = ['mta_tax', 'improvement_surcharge', 'tolls_amount']\n",
    "\n",
    "for f in binary_features:\n",
    "    trips_merged[f] = (trips_merged[f]!=0).astype(int)"
   ]
  },
  {
   "cell_type": "markdown",
   "metadata": {},
   "source": [
    "### LabelEncoder  (NOT APPLIED)"
   ]
  },
  {
   "cell_type": "code",
   "execution_count": null,
   "metadata": {},
   "outputs": [],
   "source": [
    "le = preprocessing.LabelEncoder()\n",
    "le.fit(trips_merged['extra'])\n",
    "trips_merged['extra'] = le.transform(trips_merged['extra'])"
   ]
  },
  {
   "cell_type": "code",
   "execution_count": null,
   "metadata": {},
   "outputs": [],
   "source": [
    "trips_merged.head()"
   ]
  },
  {
   "cell_type": "markdown",
   "metadata": {},
   "source": [
    "# Feature Selection (Optional)"
   ]
  },
  {
   "cell_type": "markdown",
   "metadata": {},
   "source": [
    "When there are too many features and it is impossible to handle them manually, one way to solve the problem is to perform feature selection. Even though some models has feature selection functionality (LASSO), which is called embeded feature seletion, here we introduce filter method using two measure, Chi-square and F-score. \n",
    "\n",
    "Please note that, in this dataset, the number of features is not large. Thus, feature selection might not increase the model performance, especially for some complicated models such as Random Forest and Boosting. "
   ]
  },
  {
   "cell_type": "code",
   "execution_count": 30,
   "metadata": {},
   "outputs": [],
   "source": [
    "from sklearn.feature_selection import chi2, f_classif\n",
    "\n",
    "def selectFeatures(method, X, y, features):\n",
    "    \n",
    "    # method check\n",
    "    if method not in [\"chi2\", \"f\"]:\n",
    "        raise Exception(\"Only Chi2 and f score are supported.\")\n",
    "    if method == \"chi2\":\n",
    "        score, _ = chi2(X, y)\n",
    "    elif method == \"f\":\n",
    "        score, _ = f_classif(X, y)\n",
    "    score = np.nan_to_num(score)\n",
    "    return sorted(zip(*(features, score)), key=lambda x: x[1], reverse=True)"
   ]
  },
  {
   "cell_type": "code",
   "execution_count": 31,
   "metadata": {},
   "outputs": [
    {
     "name": "stdout",
     "output_type": "stream",
     "text": [
      "                  feature           chi2       f_score\n",
      "0             fare_amount  546999.849412  55956.568044\n",
      "1           trip_duration  391785.566601   1202.379663\n",
      "2           trip_distance  225853.887075  50110.806457\n",
      "3            tolls_amount   65950.372953  10923.099761\n",
      "4              RatecodeID   49349.367416  56350.370715\n",
      "5              PULocation   20031.295068  23779.274228\n",
      "6              DOLocation   18108.902834  23754.762603\n",
      "7                    hour    9758.955785   4185.586518\n",
      "8              trip_speed    8625.169828   2885.269917\n",
      "9                   extra    7955.595962  15628.255095\n",
      "10                  PU_DO    7900.396783  10218.018853\n",
      "11              trip_type    3870.236371  56597.275144\n",
      "12                weekday    1598.778826   1612.201030\n",
      "13  improvement_surcharge    1404.786026  56627.051304\n",
      "14               monthday    1237.027890    250.193554\n",
      "15                mta_tax       0.131200     26.458643\n"
     ]
    }
   ],
   "source": [
    "# get X and y\n",
    "features = [x for x in trips_merged.columns if x not in ['is_tipped']]\n",
    "X = trips_merged[features].values\n",
    "y = trips_merged['is_tipped'].values\n",
    "\n",
    "# feature selection \n",
    "chi2 = selectFeatures('chi2', X, y, features)\n",
    "f = selectFeatures('f', X, y, features)\n",
    "\n",
    "# show results\n",
    "chi2_df = pd.DataFrame(chi2, columns=['feature','chi2'])\n",
    "f_df = pd.DataFrame(f, columns=['feature','f_score'])\n",
    "merged_df = chi2_df.merge(f_df,on='feature',how='inner')\n",
    "\n",
    "print(merged_df)"
   ]
  },
  {
   "cell_type": "code",
   "execution_count": 32,
   "metadata": {},
   "outputs": [],
   "source": [
    "trips_merged.drop([\"passenger_count\"], axis=1, inplace=True)"
   ]
  },
  {
   "cell_type": "markdown",
   "metadata": {},
   "source": [
    "For both of the feature selection methods, variables `passenger_count` has relatively low scores and I just remove them. \n",
    "\n",
    "Now we are ready for the modeling !"
   ]
  },
  {
   "cell_type": "code",
   "execution_count": 36,
   "metadata": {},
   "outputs": [
    {
     "data": {
      "text/html": [
       "<div>\n",
       "<style scoped>\n",
       "    .dataframe tbody tr th:only-of-type {\n",
       "        vertical-align: middle;\n",
       "    }\n",
       "\n",
       "    .dataframe tbody tr th {\n",
       "        vertical-align: top;\n",
       "    }\n",
       "\n",
       "    .dataframe thead th {\n",
       "        text-align: right;\n",
       "    }\n",
       "</style>\n",
       "<table border=\"1\" class=\"dataframe\">\n",
       "  <thead>\n",
       "    <tr style=\"text-align: right;\">\n",
       "      <th></th>\n",
       "      <th>RatecodeID</th>\n",
       "      <th>trip_distance</th>\n",
       "      <th>fare_amount</th>\n",
       "      <th>extra</th>\n",
       "      <th>tolls_amount</th>\n",
       "      <th>improvement_surcharge</th>\n",
       "      <th>trip_type</th>\n",
       "      <th>is_tipped</th>\n",
       "      <th>monthday</th>\n",
       "      <th>weekday</th>\n",
       "      <th>hour</th>\n",
       "      <th>trip_duration</th>\n",
       "      <th>trip_speed</th>\n",
       "      <th>PULocation</th>\n",
       "      <th>DOLocation</th>\n",
       "      <th>PU_DO</th>\n",
       "    </tr>\n",
       "  </thead>\n",
       "  <tbody>\n",
       "    <tr>\n",
       "      <th>0</th>\n",
       "      <td>1</td>\n",
       "      <td>1.55</td>\n",
       "      <td>8.0</td>\n",
       "      <td>0.5</td>\n",
       "      <td>0.0</td>\n",
       "      <td>0.3</td>\n",
       "      <td>1.0</td>\n",
       "      <td>1</td>\n",
       "      <td>1</td>\n",
       "      <td>6</td>\n",
       "      <td>0</td>\n",
       "      <td>9.200000</td>\n",
       "      <td>10.108696</td>\n",
       "      <td>1</td>\n",
       "      <td>1</td>\n",
       "      <td>0</td>\n",
       "    </tr>\n",
       "    <tr>\n",
       "      <th>1</th>\n",
       "      <td>1</td>\n",
       "      <td>1.32</td>\n",
       "      <td>7.0</td>\n",
       "      <td>0.5</td>\n",
       "      <td>0.0</td>\n",
       "      <td>0.3</td>\n",
       "      <td>1.0</td>\n",
       "      <td>0</td>\n",
       "      <td>1</td>\n",
       "      <td>6</td>\n",
       "      <td>0</td>\n",
       "      <td>7.500000</td>\n",
       "      <td>10.560000</td>\n",
       "      <td>3</td>\n",
       "      <td>3</td>\n",
       "      <td>0</td>\n",
       "    </tr>\n",
       "    <tr>\n",
       "      <th>2</th>\n",
       "      <td>1</td>\n",
       "      <td>0.68</td>\n",
       "      <td>4.0</td>\n",
       "      <td>0.5</td>\n",
       "      <td>0.0</td>\n",
       "      <td>0.3</td>\n",
       "      <td>1.0</td>\n",
       "      <td>1</td>\n",
       "      <td>1</td>\n",
       "      <td>6</td>\n",
       "      <td>0</td>\n",
       "      <td>2.016667</td>\n",
       "      <td>20.231405</td>\n",
       "      <td>3</td>\n",
       "      <td>3</td>\n",
       "      <td>0</td>\n",
       "    </tr>\n",
       "    <tr>\n",
       "      <th>3</th>\n",
       "      <td>1</td>\n",
       "      <td>0.97</td>\n",
       "      <td>6.0</td>\n",
       "      <td>0.5</td>\n",
       "      <td>0.0</td>\n",
       "      <td>0.3</td>\n",
       "      <td>1.0</td>\n",
       "      <td>1</td>\n",
       "      <td>1</td>\n",
       "      <td>6</td>\n",
       "      <td>0</td>\n",
       "      <td>5.733333</td>\n",
       "      <td>10.151163</td>\n",
       "      <td>3</td>\n",
       "      <td>3</td>\n",
       "      <td>0</td>\n",
       "    </tr>\n",
       "    <tr>\n",
       "      <th>4</th>\n",
       "      <td>1</td>\n",
       "      <td>2.69</td>\n",
       "      <td>12.5</td>\n",
       "      <td>0.5</td>\n",
       "      <td>0.0</td>\n",
       "      <td>0.3</td>\n",
       "      <td>1.0</td>\n",
       "      <td>1</td>\n",
       "      <td>1</td>\n",
       "      <td>6</td>\n",
       "      <td>0</td>\n",
       "      <td>16.300000</td>\n",
       "      <td>9.901840</td>\n",
       "      <td>1</td>\n",
       "      <td>1</td>\n",
       "      <td>0</td>\n",
       "    </tr>\n",
       "  </tbody>\n",
       "</table>\n",
       "</div>"
      ],
      "text/plain": [
       "   RatecodeID  trip_distance  fare_amount  extra  tolls_amount  \\\n",
       "0           1           1.55          8.0    0.5           0.0   \n",
       "1           1           1.32          7.0    0.5           0.0   \n",
       "2           1           0.68          4.0    0.5           0.0   \n",
       "3           1           0.97          6.0    0.5           0.0   \n",
       "4           1           2.69         12.5    0.5           0.0   \n",
       "\n",
       "   improvement_surcharge  trip_type  is_tipped  monthday  weekday  hour  \\\n",
       "0                    0.3        1.0          1         1        6     0   \n",
       "1                    0.3        1.0          0         1        6     0   \n",
       "2                    0.3        1.0          1         1        6     0   \n",
       "3                    0.3        1.0          1         1        6     0   \n",
       "4                    0.3        1.0          1         1        6     0   \n",
       "\n",
       "   trip_duration  trip_speed  PULocation  DOLocation  PU_DO  \n",
       "0       9.200000   10.108696           1           1      0  \n",
       "1       7.500000   10.560000           3           3      0  \n",
       "2       2.016667   20.231405           3           3      0  \n",
       "3       5.733333   10.151163           3           3      0  \n",
       "4      16.300000    9.901840           1           1      0  "
      ]
     },
     "execution_count": 36,
     "metadata": {},
     "output_type": "execute_result"
    }
   ],
   "source": [
    "trips_merged.head()"
   ]
  },
  {
   "cell_type": "markdown",
   "metadata": {},
   "source": [
    "# Predictive Modeling"
   ]
  },
  {
   "cell_type": "markdown",
   "metadata": {},
   "source": [
    "We are going to train a classification model, to determine if a trip will be tipped or not. Let's follow the instructions below. \n",
    "\n",
    "* Get X and y from `trips_cc` dataframe.\n",
    "* Split data into train/test, 80000 test.\n",
    "* Model selection. Use training set to run cross validation on all classification models and choose top two.\n",
    "* Fine tune three models using `RandomizedSearchCV`.\n",
    "* Show feature importance.\n",
    "* Ensemble three models using majority vote.\n",
    "* Stacking three models using `StackingCVClassifier`.\n",
    "* Compare all five models on test set."
   ]
  },
  {
   "cell_type": "markdown",
   "metadata": {},
   "source": [
    "## Train Test Split"
   ]
  },
  {
   "cell_type": "code",
   "execution_count": 33,
   "metadata": {
    "scrolled": true
   },
   "outputs": [],
   "source": [
    "# get X and y\n",
    "\n",
    "y = trips_merged['is_tipped'].values\n",
    "X = trips_merged.drop(['is_tipped'], axis=1).values\n",
    "\n",
    "# train test split\n",
    "X_train, X_test, y_train, y_test = train_test_split(X, y, test_size=0.2, random_state=42)"
   ]
  },
  {
   "cell_type": "code",
   "execution_count": 34,
   "metadata": {},
   "outputs": [
    {
     "data": {
      "text/plain": [
       "(324098, 15)"
      ]
     },
     "execution_count": 34,
     "metadata": {},
     "output_type": "execute_result"
    }
   ],
   "source": [
    "X_train.shape"
   ]
  },
  {
   "cell_type": "markdown",
   "metadata": {},
   "source": [
    "## Model Selection"
   ]
  },
  {
   "cell_type": "markdown",
   "metadata": {},
   "source": [
    "Let's roughly train Logistic Regression, Decision Tree, Random Forest, XGBoost, ..., using 3-fold cross validation. "
   ]
  },
  {
   "cell_type": "code",
   "execution_count": 35,
   "metadata": {},
   "outputs": [
    {
     "name": "stdout",
     "output_type": "stream",
     "text": [
      "5-fold cross validation:\n",
      "\n",
      "Accuracy: 0.7639 (+/- 0.0010) [lr]\n",
      "Accuracy: 0.7167 (+/- 0.0009) [dt]\n",
      "Accuracy: 0.7788 (+/- 0.0006) [rf]\n",
      "Accuracy: 0.7854 (+/- 0.0009) [ada]\n",
      "Accuracy: 0.7948 (+/- 0.0013) [xgb]\n",
      "Accuracy: 0.7590 (+/- 0.0005) [knn]\n",
      "Accuracy: 0.7668 (+/- 0.0003) [et]\n"
     ]
    }
   ],
   "source": [
    "from sklearn.ensemble import (RandomForestClassifier, AdaBoostClassifier, \n",
    "                              ExtraTreesClassifier, GradientBoostingClassifier)\n",
    "from sklearn.linear_model import LogisticRegression\n",
    "from sklearn.tree import DecisionTreeClassifier\n",
    "from xgboost import XGBClassifier\n",
    "from sklearn.neighbors import KNeighborsClassifier\n",
    "# from sklearn.svm import SVC\n",
    "\n",
    "from sklearn.model_selection import cross_val_score\n",
    "import time\n",
    "\n",
    "# 9 candidate models\n",
    "models = [LogisticRegression(), \n",
    "          DecisionTreeClassifier(), \n",
    "          RandomForestClassifier(),\n",
    "          AdaBoostClassifier(),\n",
    "          XGBClassifier(),\n",
    "          KNeighborsClassifier(),\n",
    "          ExtraTreesClassifier()]\n",
    "\n",
    "labels = ['lr','dt','rf','ada','xgb','knn','et']\n",
    "\n",
    "print('5-fold cross validation:\\n')\n",
    "# train models\n",
    "for model, label in zip(models,labels):\n",
    "    scores = cross_val_score(model, X_train, y_train, cv=3, scoring='accuracy')\n",
    "    print(\"Accuracy: %0.4f (+/- %0.4f) [%s]\" \n",
    "          % (scores.mean(), scores.std(), label))"
   ]
  },
  {
   "cell_type": "markdown",
   "metadata": {},
   "source": [
    "From the results above, we would like to choose Logistic Regression, Random Forest, AdaBoost, XGBoost, KNN and Extra Trees. Then, we will be using [GridSearchCV](https://scikit-learn.org/stable/modules/generated/sklearn.model_selection.GridSearchCV.html) to tune hyperparameters. "
   ]
  },
  {
   "cell_type": "markdown",
   "metadata": {},
   "source": [
    "## Tune Hyperparameters"
   ]
  },
  {
   "cell_type": "markdown",
   "metadata": {},
   "source": [
    "To tune hyperparameters, for each model we need to set up several hyperparameters as well as their possible values. For example, in Random Forest, `n_estimators` is the number of trees. Possible values are `np.arange(50,300,30)`. There are also `max_depth` and `min_samples_split`. \n",
    "\n",
    "After we prepare for the hyperparameters, `GridSearchCV` will go through all possible combinations. During hyperparameter tuning, we also store the best estimator, best parameters, best accuracy and running time to make comparison. \n",
    "\n",
    "**Note:** It might be running 35 mins for the current setttings."
   ]
  },
  {
   "cell_type": "code",
   "execution_count": 41,
   "metadata": {},
   "outputs": [],
   "source": [
    "from sklearn.model_selection import GridSearchCV\n",
    "\n",
    "# Logistic Regression\n",
    "lr_params = {\n",
    "    'C': np.linspace(0.1,1,5,endpoint=True),\n",
    "    'penalty': ['l2']\n",
    "}\n",
    "\n",
    "# Random Forest hyperparameters\n",
    "rf_params = {\n",
    "    'n_estimators': [300],\n",
    "    'max_depth': [None],\n",
    "    'min_samples_split': np.arange(2,5),\n",
    "    'min_samples_leaf':[1,2]\n",
    "}\n",
    "\n",
    "# AdaBoost hyperparameters\n",
    "ada_params = {\n",
    "    'n_estimators':[300],\n",
    "    'learning_rate':[0.1,0.4,0.7]\n",
    "}\n",
    "\n",
    "# XGBoost hyperparameters\n",
    "xgb_params = {\n",
    "    'n_estimators':[300],\n",
    "    'learning_rate':np.arange(0.1,1,0.3),\n",
    "    'max_depth':[3],\n",
    "    'min_child_weight':[2],\n",
    "    'gamma':[0.2],\n",
    "    'subsample':[0.8]\n",
    "}\n",
    "\n",
    "# K Nearest Neighbor Classifier\n",
    "knn_params = {\n",
    "    'n_neighbors':[5],\n",
    "    'leaf_size':[2,4],\n",
    "    'algorithm':['auto','kd_tree'] \n",
    "}\n",
    "\n",
    "# Extra Trees Parameters\n",
    "et_params = {\n",
    "    'n_estimators':[300],\n",
    "    'max_depth': [None],\n",
    "    'min_samples_split': np.arange(2,5),\n",
    "    'min_samples_leaf':[1,2]\n",
    "}\n",
    "\n",
    "# models\n",
    "lr_clf = LogisticRegression\n",
    "rf_clf = RandomForestClassifier\n",
    "ada_clf = AdaBoostClassifier\n",
    "xgb_clf = XGBClassifier\n",
    "knn_clf = KNeighborsClassifier\n",
    "et_clf = ExtraTreesClassifier\n",
    "\n",
    "# pairs list\n",
    "# pairs list\n",
    "clf_params = [(lr_clf,lr_params),\n",
    "              (rf_clf,rf_params),\n",
    "              (ada_clf,ada_params),\n",
    "              (xgb_clf,xgb_params),\n",
    "              (knn_clf,knn_params),\n",
    "              (et_clf,et_params)]"
   ]
  },
  {
   "cell_type": "code",
   "execution_count": 42,
   "metadata": {
    "code_folding": [],
    "scrolled": true
   },
   "outputs": [
    {
     "name": "stdout",
     "output_type": "stream",
     "text": [
      "Fitting 3 folds for each of 5 candidates, totalling 15 fits\n"
     ]
    },
    {
     "name": "stderr",
     "output_type": "stream",
     "text": [
      "[Parallel(n_jobs=-1)]: Using backend LokyBackend with 12 concurrent workers.\n",
      "[Parallel(n_jobs=-1)]: Done   8 out of  15 | elapsed:   15.4s remaining:   13.5s\n",
      "[Parallel(n_jobs=-1)]: Done  15 out of  15 | elapsed:   19.6s finished\n"
     ]
    },
    {
     "name": "stdout",
     "output_type": "stream",
     "text": [
      "Fitting 3 folds for each of 6 candidates, totalling 18 fits\n"
     ]
    },
    {
     "name": "stderr",
     "output_type": "stream",
     "text": [
      "[Parallel(n_jobs=-1)]: Using backend LokyBackend with 12 concurrent workers.\n",
      "[Parallel(n_jobs=-1)]: Done  14 out of  18 | elapsed:  9.2min remaining:  2.6min\n",
      "[Parallel(n_jobs=-1)]: Done  18 out of  18 | elapsed:  9.4min finished\n"
     ]
    },
    {
     "name": "stdout",
     "output_type": "stream",
     "text": [
      "Fitting 3 folds for each of 3 candidates, totalling 9 fits\n"
     ]
    },
    {
     "name": "stderr",
     "output_type": "stream",
     "text": [
      "[Parallel(n_jobs=-1)]: Using backend LokyBackend with 12 concurrent workers.\n",
      "[Parallel(n_jobs=-1)]: Done   6 out of   9 | elapsed:  2.5min remaining:  1.2min\n",
      "[Parallel(n_jobs=-1)]: Done   9 out of   9 | elapsed:  2.5min finished\n"
     ]
    },
    {
     "name": "stdout",
     "output_type": "stream",
     "text": [
      "Fitting 3 folds for each of 3 candidates, totalling 9 fits\n"
     ]
    },
    {
     "name": "stderr",
     "output_type": "stream",
     "text": [
      "[Parallel(n_jobs=-1)]: Using backend LokyBackend with 12 concurrent workers.\n",
      "[Parallel(n_jobs=-1)]: Done   6 out of   9 | elapsed:  1.8min remaining:   53.1s\n",
      "[Parallel(n_jobs=-1)]: Done   9 out of   9 | elapsed:  1.8min finished\n"
     ]
    },
    {
     "name": "stdout",
     "output_type": "stream",
     "text": [
      "Fitting 3 folds for each of 4 candidates, totalling 12 fits\n"
     ]
    },
    {
     "name": "stderr",
     "output_type": "stream",
     "text": [
      "[Parallel(n_jobs=-1)]: Using backend LokyBackend with 12 concurrent workers.\n",
      "[Parallel(n_jobs=-1)]: Done   2 out of  12 | elapsed:  1.1min remaining:  5.3min\n",
      "[Parallel(n_jobs=-1)]: Done  12 out of  12 | elapsed:  1.1min finished\n"
     ]
    },
    {
     "name": "stdout",
     "output_type": "stream",
     "text": [
      "Fitting 3 folds for each of 6 candidates, totalling 18 fits\n"
     ]
    },
    {
     "name": "stderr",
     "output_type": "stream",
     "text": [
      "[Parallel(n_jobs=-1)]: Using backend LokyBackend with 12 concurrent workers.\n",
      "[Parallel(n_jobs=-1)]: Done  14 out of  18 | elapsed:  9.8min remaining:  2.8min\n",
      "[Parallel(n_jobs=-1)]: Done  18 out of  18 | elapsed: 10.8min finished\n"
     ]
    }
   ],
   "source": [
    "# hyperparameter tuning\n",
    "tune_results = {}\n",
    "\n",
    "for clf, params in clf_params:\n",
    "    \n",
    "    start = time.time()\n",
    "    tune = GridSearchCV(clf(),params,scoring=\"accuracy\",cv=3,verbose=True,n_jobs=-1)\n",
    "    tune.fit(X_train, y_train)\n",
    "    best_estimator = tune.best_estimator_\n",
    "    best_params = tune.best_params_\n",
    "    best_score = tune.best_score_\n",
    "    tune_results[clf] = (best_estimator, best_params, best_score, (time.time()-start)/60)"
   ]
  },
  {
   "cell_type": "code",
   "execution_count": 44,
   "metadata": {
    "scrolled": true
   },
   "outputs": [
    {
     "data": {
      "text/plain": [
       "{sklearn.linear_model.logistic.LogisticRegression: (LogisticRegression(C=0.1, class_weight=None, dual=False, fit_intercept=True,\n",
       "            intercept_scaling=1, max_iter=100, multi_class='warn',\n",
       "            n_jobs=None, penalty='l2', random_state=None, solver='warn',\n",
       "            tol=0.0001, verbose=0, warm_start=False),\n",
       "  {'C': 0.1, 'penalty': 'l2'},\n",
       "  0.7639849675098273,\n",
       "  0.39316043456395466),\n",
       " sklearn.ensemble.forest.RandomForestClassifier: (RandomForestClassifier(bootstrap=True, class_weight=None, criterion='gini',\n",
       "              max_depth=None, max_features='auto', max_leaf_nodes=None,\n",
       "              min_impurity_decrease=0.0, min_impurity_split=None,\n",
       "              min_samples_leaf=2, min_samples_split=2,\n",
       "              min_weight_fraction_leaf=0.0, n_estimators=300, n_jobs=None,\n",
       "              oob_score=False, random_state=None, verbose=0,\n",
       "              warm_start=False),\n",
       "  {'max_depth': None,\n",
       "   'min_samples_leaf': 2,\n",
       "   'min_samples_split': 2,\n",
       "   'n_estimators': 300},\n",
       "  0.8047596714573987,\n",
       "  11.732938035329182),\n",
       " sklearn.ensemble.weight_boosting.AdaBoostClassifier: (AdaBoostClassifier(algorithm='SAMME.R', base_estimator=None,\n",
       "            learning_rate=0.7, n_estimators=300, random_state=None),\n",
       "  {'learning_rate': 0.7, 'n_estimators': 300},\n",
       "  0.7880764460132429,\n",
       "  3.665594132741292),\n",
       " xgboost.sklearn.XGBClassifier: (XGBClassifier(base_score=0.5, booster='gbtree', colsample_bylevel=1,\n",
       "         colsample_bytree=1, gamma=0.2, learning_rate=0.7000000000000001,\n",
       "         max_delta_step=0, max_depth=3, min_child_weight=2, missing=None,\n",
       "         n_estimators=300, n_jobs=1, nthread=None,\n",
       "         objective='binary:logistic', random_state=0, reg_alpha=0,\n",
       "         reg_lambda=1, scale_pos_weight=1, seed=None, silent=True,\n",
       "         subsample=0.8),\n",
       "  {'gamma': 0.2,\n",
       "   'learning_rate': 0.7000000000000001,\n",
       "   'max_depth': 3,\n",
       "   'min_child_weight': 2,\n",
       "   'n_estimators': 300,\n",
       "   'subsample': 0.8},\n",
       "  0.805703830322927,\n",
       "  2.9850496967633564),\n",
       " sklearn.neighbors.classification.KNeighborsClassifier: (KNeighborsClassifier(algorithm='auto', leaf_size=2, metric='minkowski',\n",
       "             metric_params=None, n_jobs=None, n_neighbors=5, p=2,\n",
       "             weights='uniform'),\n",
       "  {'algorithm': 'auto', 'leaf_size': 2, 'n_neighbors': 5},\n",
       "  0.7590420181550025,\n",
       "  1.1507975975672404),\n",
       " sklearn.ensemble.forest.ExtraTreesClassifier: (ExtraTreesClassifier(bootstrap=False, class_weight=None, criterion='gini',\n",
       "             max_depth=None, max_features='auto', max_leaf_nodes=None,\n",
       "             min_impurity_decrease=0.0, min_impurity_split=None,\n",
       "             min_samples_leaf=2, min_samples_split=4,\n",
       "             min_weight_fraction_leaf=0.0, n_estimators=300, n_jobs=None,\n",
       "             oob_score=False, random_state=None, verbose=0, warm_start=False),\n",
       "  {'max_depth': None,\n",
       "   'min_samples_leaf': 2,\n",
       "   'min_samples_split': 4,\n",
       "   'n_estimators': 300},\n",
       "  0.8044572937815105,\n",
       "  12.01508857011795)}"
      ]
     },
     "execution_count": 44,
     "metadata": {},
     "output_type": "execute_result"
    }
   ],
   "source": [
    "# Show results of tuning hyperparameters\n",
    "tune_results"
   ]
  },
  {
   "cell_type": "markdown",
   "metadata": {},
   "source": [
    "Each model improves significantly after hyperparameter tuning, compared with the training by default settings. The performance for these three models can be improved further, if we put more possible parameter settings, which will also increase the running time."
   ]
  },
  {
   "cell_type": "markdown",
   "metadata": {},
   "source": [
    "## Feature Importance"
   ]
  },
  {
   "cell_type": "markdown",
   "metadata": {},
   "source": [
    "Another advantage of choosing those three models is that all of them has method `feature_importances_`. Now let's draw three feature importance curves together in a single figure. "
   ]
  },
  {
   "cell_type": "code",
   "execution_count": 47,
   "metadata": {},
   "outputs": [
    {
     "data": {
      "image/png": "[encoded data removed]",
      "text/plain": [
       "<Figure size 720x432 with 1 Axes>"
      ]
     },
     "metadata": {
      "needs_background": "light"
     },
     "output_type": "display_data"
    }
   ],
   "source": [
    "predictors = [x for x in trips_merged.columns if x != 'is_tipped']\n",
    "# show feature importances\n",
    "feature_importance = pd.DataFrame(predictors, columns=['feature'])\n",
    "feature_importance['rf'] = tune_results[rf_clf][0].feature_importances_\n",
    "feature_importance['xgb'] = tune_results[xgb_clf][0].feature_importances_\n",
    "feature_importance['ada'] = tune_results[ada_clf][0].feature_importances_\n",
    "feature_importance['et'] = tune_results[et_clf][0].feature_importances_\n",
    "feature_importance.plot(x='feature',y=['rf','xgb','ada','et'],xticks=range(len(predictors)),rot=60,figsize=(10,6))\n",
    "plt.ylabel('feature importance')\n",
    "plt.title(\"Figure 14: The importance values of features\")\n",
    "plt.show()"
   ]
  },
  {
   "cell_type": "markdown",
   "metadata": {},
   "source": [
    "## Stacking"
   ]
  },
  {
   "cell_type": "markdown",
   "metadata": {},
   "source": [
    "In this section, we are going to implement stacking from scratch. Each individual classifier has the best parameters given by section 5.3. The meta classifier is Logistic Regression with default parameters. \n",
    "\n",
    "First, we get prediction values from these models, using cross validation. Note that, at the same time you should convert your test set into the format you need. \n",
    "\n",
    "The function \n",
    "```Python\n",
    "def get_oof()\n",
    "```\n",
    "helps you implement the cross validation."
   ]
  },
  {
   "cell_type": "code",
   "execution_count": 50,
   "metadata": {},
   "outputs": [],
   "source": [
    "from sklearn.model_selection import KFold\n",
    "import scipy\n",
    "\n",
    "def get_oof(clf, x_train, y_train, x_test):\n",
    "    \n",
    "    ntrain = x_train.shape[0]\n",
    "    ntest = x_test.shape[0]\n",
    "    kf = KFold(n_splits= 3, random_state=42)\n",
    "    \n",
    "    oof_train = np.zeros((ntrain,))\n",
    "    oof_test = np.zeros((ntest,))\n",
    "    oof_test_skf = np.empty((3, ntest))\n",
    "    i = 0\n",
    "    for train_index, test_index in kf.split(x_train):\n",
    "        x_tr = x_train[train_index]\n",
    "        y_tr = y_train[train_index]\n",
    "        x_te = x_train[test_index]\n",
    "\n",
    "        clf.fit(x_tr, y_tr)\n",
    "\n",
    "        oof_train[test_index] = clf.predict(x_te)\n",
    "        oof_test_skf[i, :] = clf.predict(x_test)\n",
    "        \n",
    "        i += 1\n",
    "    \n",
    "    oof_test[:] = scipy.stats.mode(oof_test_skf, axis=0)[0]\n",
    "    \n",
    "    return oof_train.reshape(-1, 1), oof_test.reshape(-1, 1)"
   ]
  },
  {
   "cell_type": "markdown",
   "metadata": {},
   "source": [
    "Then you might use the optimal parameters obtained in section 5.3 to train your models and get stacked dataseet."
   ]
  },
  {
   "cell_type": "code",
   "execution_count": 51,
   "metadata": {},
   "outputs": [],
   "source": [
    "stack_train = []\n",
    "stack_test = []\n",
    "\n",
    "for clf, _ in clf_params:\n",
    "    tmp = clf(**tune_results[clf][1])\n",
    "    oof_train, oof_test = get_oof(tmp, X_train, y_train, X_test)\n",
    "    stack_train.append(oof_train)\n",
    "    stack_test.append(oof_test)\n",
    "    \n",
    "X_train_stacked = np.concatenate(stack_train, axis=1)\n",
    "X_test_stacked = np.concatenate(stack_test, axis=1)\n",
    "\n",
    "# meta classifier\n",
    "metas = {}\n",
    "for clf, _ in clf_params:\n",
    "    metas[clf] = clf().fit(X_train_stacked, y_train)"
   ]
  },
  {
   "cell_type": "markdown",
   "metadata": {},
   "source": [
    "## Ensemble"
   ]
  },
  {
   "cell_type": "markdown",
   "metadata": {},
   "source": [
    "Let's ensemble all the model results together, including individuals and stacking, from scratch. "
   ]
  },
  {
   "cell_type": "code",
   "execution_count": 55,
   "metadata": {},
   "outputs": [],
   "source": [
    "ensemble_res = []\n",
    "\n",
    "for clf, _ in clf_params:\n",
    "    ensemble_res.append(metas[clf].predict(X_test_stacked))\n",
    "    ensemble_res.append(tune_results[clf][0].predict(X_test))"
   ]
  },
  {
   "cell_type": "code",
   "execution_count": 57,
   "metadata": {},
   "outputs": [],
   "source": [
    "import scipy\n",
    "\n",
    "# make prediction\n",
    "ensemble_arr = np.array(ensemble_res)\n",
    "ensemble_pred = scipy.stats.mode(ensemble_arr, axis=0)[0][0,:]"
   ]
  },
  {
   "cell_type": "code",
   "execution_count": 58,
   "metadata": {},
   "outputs": [
    {
     "data": {
      "text/plain": [
       "array([1, 0, 0, ..., 1, 0, 0])"
      ]
     },
     "execution_count": 58,
     "metadata": {},
     "output_type": "execute_result"
    }
   ],
   "source": [
    "ensemble_pred"
   ]
  },
  {
   "cell_type": "markdown",
   "metadata": {},
   "source": [
    "## On Test Set"
   ]
  },
  {
   "cell_type": "markdown",
   "metadata": {},
   "source": [
    "Now, we have six individual models, six stacking models and one ensemble model. Let's apply all models on test set, and compute accuracy scores."
   ]
  },
  {
   "cell_type": "code",
   "execution_count": 60,
   "metadata": {
    "scrolled": true
   },
   "outputs": [
    {
     "name": "stdout",
     "output_type": "stream",
     "text": [
      "Accuracy: 0.7641 [lr]\n",
      "Accuracy: 0.8053 [rf]\n",
      "Accuracy: 0.7871 [ada]\n",
      "Accuracy: 0.8078 [xgb]\n",
      "Accuracy: 0.7626 [knn]\n",
      "Accuracy: 0.8039 [et]\n",
      "Accuracy: 0.8054 [lr_stack]\n",
      "Accuracy: 0.8071 [rf_stack]\n",
      "Accuracy: 0.8054 [ada_stack]\n",
      "Accuracy: 0.8066 [xgb_stack]\n",
      "Accuracy: 0.7987 [knn_stack]\n",
      "Accuracy: 0.8069 [et_stack]\n",
      "Accuracy: 0.8056 [ensemble]\n"
     ]
    }
   ],
   "source": [
    "# individuals,\n",
    "model_labels = ['lr','rf','ada','xgb','knn','et']\n",
    "all_clfs = [x[0] for x in clf_params]\n",
    "\n",
    "for clf, label in zip(all_clfs, model_labels):\n",
    "    print (\"Accuracy: %0.4f [%s]\" %(tune_results[clf][0].score(X_test,y_test), label))\n",
    "    \n",
    "# stacking\n",
    "stack_labels = ['lr_stack','rf_stack','ada_stack','xgb_stack','knn_stack','et_stack']\n",
    "\n",
    "for clf, label in zip(all_clfs, stack_labels):\n",
    "    print (\"Accuracy: %0.4f [%s]\" %(metas[clf].score(X_test_stacked,y_test), label))\n",
    "\n",
    "# ensemble\n",
    "from sklearn.metrics import accuracy_score\n",
    "print (\"Accuracy: %0.4f [%s]\" %(accuracy_score(y_test, ensemble_pred), \"ensemble\"))"
   ]
  },
  {
   "cell_type": "markdown",
   "metadata": {},
   "source": [
    "# Conclusion"
   ]
  },
  {
   "cell_type": "markdown",
   "metadata": {},
   "source": [
    "We use 6 classification models to fit green taxi data, to classify whether a trip will be tipped or not. During model selection, Random Forest, AdaBoost and XGBoost outperformed. This is reasonable, since they are all complicated models. Logistic Regression and Decision Tree are too simple, and somehow underfitting the data. \n",
    "\n",
    "We fine tuned these models and get the following results.\n",
    "\n",
    "|model|best params|best accuracy|run time(mins)|\n",
    "|-----|-----------|--------|--------|\n",
    "|Logistic Regression|{'C': 0.1, 'penalty': 'l2'}|0.7640| 0.39|\n",
    "|Random Forest|{'min_samples_leaf': 2,'min_samples_split': 2,'n_estimators': 300}|0.8048| 11.7|\n",
    "|XGBoost|{'learning_rate': 0.7,'min_child_weight': 2,'n_estimators': 300}|0.8057|2.99|\n",
    "|AdaBoost|{'learning_rate': 0.7, 'n_estimators': 300}|0.7880|3.67|\n",
    "|KNN|{'algorithm': 'auto', 'leaf_size': 2, 'n_neighbors': 5}|0.7590|1.15|\n",
    "|Extra Trees|{'min_samples_leaf': 2,'min_samples_split': 4,'n_estimators': 300}|0.8045|12.0|\n",
    "\n",
    "XGBoost gets the best performance among these models. \n",
    "\n",
    "For feature importances, pickup/dropoff location and trip duration are more important than other features. The results make sense. First of all, it is more likely that a long trip will be tipped than a short trip. Second, people  in a certain fixed area may be more likely to give tips, for example, pick up location is airport.\n",
    "\n",
    "In addition, we use stacking and ensemble methods to combine models together. The predictive performances on test set are as follows."
   ]
  },
  {
   "cell_type": "code",
   "execution_count": 70,
   "metadata": {},
   "outputs": [
    {
     "data": {
      "image/png": "[encoded data removed]",
      "text/plain": [
       "<Figure size 720x432 with 1 Axes>"
      ]
     },
     "metadata": {
      "needs_background": "light"
     },
     "output_type": "display_data"
    }
   ],
   "source": [
    "final_res = pd.DataFrame()\n",
    "final_res['models'] = ['lr','rf','ada','xgb','knn','et' ,\n",
    "                       'lr_stack' ,'rf_stack','ada_stack','xgb_stack','knn_stack','et_stack' ,\n",
    "                       'ensemble']\n",
    "final_res['accuracy'] = [0.7641,0.8053,0.7871,0.8078,0.7626,0.8039,\n",
    "                         0.8054,0.8071,0.8054,0.8066,0.7987,0.8069,0.8056]\n",
    "final_res.plot.bar(x='models',y='accuracy',rot=60,figsize=(10,6))\n",
    "plt.ylim(0.7,0.85)\n",
    "plt.title(\"Accuracy across all candidate models\")\n",
    "plt.show()"
   ]
  },
  {
   "cell_type": "markdown",
   "metadata": {},
   "source": [
    "|model|accuracy|\n",
    "|-----|-----------|\n",
    "|lr        | 0.7641 |\n",
    "|rf        | 0.8053 |\n",
    "|ada       | 0.7871 |\n",
    "|xgb       | 0.8078 |\n",
    "|knn       | 0.7626 |\n",
    "|et        | 0.8039 |\n",
    "|lr_stack  | 0.8054 |\n",
    "|rf_stack  | 0.8071 |\n",
    "|ada_stack | 0.8054 |\n",
    "|xgb_stack | 0.8066 |\n",
    "|knn_stack | 0.7987 |\n",
    "|et_stack  | 0.8069 |\n",
    "|ensemble  | 0.8056 |\n",
    "\n",
    "The result shows that Stacking method is promising. \n",
    "\n",
    "In some Data Challenge projects or Kaggle, a good result heavily relies on the condition of your dataset. Sometimes a simple model such as Logistic Regression outperforms other complicated models. Sometimes stacking and ensemble do not make much difference. Model tuning is also very dependent on experience. There is no right or wrong solution. All you have to do is practice more. \n",
    "\n"
   ]
  },
  {
   "cell_type": "code",
   "execution_count": null,
   "metadata": {},
   "outputs": [],
   "source": []
  }
 ],
 "metadata": {
  "kernelspec": {
   "display_name": "Python 3",
   "language": "python",
   "name": "python3"
  },
  "language_info": {
   "codemirror_mode": {
    "name": "ipython",
    "version": 3
   },
   "file_extension": ".py",
   "mimetype": "text/x-python",
   "name": "python",
   "nbconvert_exporter": "python",
   "pygments_lexer": "ipython3",
   "version": "3.6.8"
  },
  "toc": {
   "base_numbering": 1,
   "nav_menu": {},
   "number_sections": true,
   "sideBar": true,
   "skip_h1_title": false,
   "title_cell": "Table of Contents",
   "title_sidebar": "Contents",
   "toc_cell": false,
   "toc_position": {
    "height": "calc(100% - 180px)",
    "left": "10px",
    "top": "150px",
    "width": "165px"
   },
   "toc_section_display": true,
   "toc_window_display": true
  }
 },
 "nbformat": 4,
 "nbformat_minor": 1
}
